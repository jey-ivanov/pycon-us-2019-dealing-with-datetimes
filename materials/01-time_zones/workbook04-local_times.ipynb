{
 "cells": [
  {
   "cell_type": "markdown",
   "metadata": {},
   "source": [
    "# Working with Time Zones"
   ]
  },
  {
   "cell_type": "markdown",
   "metadata": {},
   "source": [
    "## Handling local times"
   ]
  },
  {
   "cell_type": "markdown",
   "metadata": {},
   "source": [
    "\"Local time\" is a very common concept that is irritatingly difficult to capture correctly. A naïve `datetime.datetime` in Python has a somewhat overloaded meaning in that it mostly represents an abstract datetime for use with calendrical calculations, but when used as a concrete time, it is interpreted as being in the system's local time zone.\n",
    "\n",
    "For example:"
   ]
  },
  {
   "cell_type": "code",
   "execution_count": null,
   "metadata": {},
   "outputs": [],
   "source": [
    "from datetime import datetime, timezone\n",
    "from dateutil import tz\n",
    "\n",
    "from helper_functions import print_dt_tzinfo"
   ]
  },
  {
   "cell_type": "code",
   "execution_count": null,
   "metadata": {},
   "outputs": [],
   "source": [
    "from helper_functions import TZEnvContext  # Sets the local time zone during the context\n",
    "                                           # This does not work on Windows\n",
    "\n",
    "dt = datetime(2020, 1, 1, 12)\n",
    "with TZEnvContext(\"America/Los_Angeles\"):\n",
    "    dt_la = dt.astimezone(timezone.utc)\n",
    "    \n",
    "with TZEnvContext(\"Asia/Tokyo\"):\n",
    "    dt_tok = dt.astimezone(timezone.utc)\n",
    "    \n",
    "print(dt_la)\n",
    "print(dt_tok)"
   ]
  },
  {
   "cell_type": "markdown",
   "metadata": {},
   "source": [
    "This works in the other direction as well:"
   ]
  },
  {
   "cell_type": "code",
   "execution_count": null,
   "metadata": {},
   "outputs": [],
   "source": [
    "dt = datetime(2020, 1, 1, 21, tzinfo=tz.gettz(\"Asia/Tokyo\"))\n",
    "\n",
    "with TZEnvContext(\"UTC\"):\n",
    "    print(dt.astimezone(None))"
   ]
  },
  {
   "cell_type": "markdown",
   "metadata": {},
   "source": [
    "These are not true local times, however, as they do not expose any information about the time zone through `tzname()` or `utcoffset()`:"
   ]
  },
  {
   "cell_type": "code",
   "execution_count": null,
   "metadata": {},
   "outputs": [],
   "source": [
    "print(datetime(2020, 1, 1, 12).utcoffset())"
   ]
  },
  {
   "cell_type": "markdown",
   "metadata": {},
   "source": [
    "And you cannot perform comparisons or arithmetic between naive datetimes and aware datetimes:"
   ]
  },
  {
   "cell_type": "code",
   "execution_count": null,
   "metadata": {},
   "outputs": [],
   "source": [
    "NYC = tz.gettz(\"America/New_York\")\n",
    "try:\n",
    "    datetime(2020, 1, 1, 12) - datetime(2020, 1, 1, 12, tzinfo=NYC)\n",
    "except TypeError as e:\n",
    "    print(repr(e))"
   ]
  },
  {
   "cell_type": "markdown",
   "metadata": {},
   "source": [
    "### `dateutil.tz.tzlocal`"
   ]
  },
  {
   "cell_type": "markdown",
   "metadata": {},
   "source": [
    "The Python standard library provides hooks into the operating system's time zone information in the `time module`:"
   ]
  },
  {
   "cell_type": "code",
   "execution_count": null,
   "metadata": {},
   "outputs": [],
   "source": [
    "import time\n",
    "\n",
    "with TZEnvContext(\"America/New_York\"):\n",
    "    print(f\"tzname: {time.tzname}\")\n",
    "    print(f\"timezone: {time.timezone}\")\n",
    "    print(f\"altzone: {time.altzone}\")"
   ]
  },
  {
   "cell_type": "markdown",
   "metadata": {},
   "source": [
    "But there is no concrete local time object in the standard library, *so* `dateutil` has implemented one with `dateutil.tz.tzlocal`!"
   ]
  },
  {
   "cell_type": "code",
   "execution_count": null,
   "metadata": {},
   "outputs": [],
   "source": [
    "with TZEnvContext(\"America/Los_Angeles\"):\n",
    "    print(\"Los Angeles\")\n",
    "    print_dt_tzinfo(datetime(2020, 1, 1, 12, tzinfo=tz.tzlocal()))\n",
    "print(\"\")\n",
    "with TZEnvContext(\"America/Chicago\"):\n",
    "    print(\"Chicago\")\n",
    "    print_dt_tzinfo(datetime(2020, 1, 1, 12, tzinfo=tz.tzlocal()))\n"
   ]
  },
  {
   "cell_type": "markdown",
   "metadata": {},
   "source": [
    "This allows you to get a proper timezone-aware datetime in your system's locale."
   ]
  },
  {
   "cell_type": "markdown",
   "metadata": {},
   "source": [
    "### Changing local zone during a program's run"
   ]
  },
  {
   "cell_type": "markdown",
   "metadata": {},
   "source": [
    "The system time zone changing during a program's run is *not* particularly well-supported operation, and you should avoid it if at all possible when working with local times: prefer to get the desired time zone from your users rather than from the system.\n",
    "\n",
    "On Linux, it is necessary to call `time.tzset()` after any change to the the system time locale in order to see those changes reflected in the system. On Windows, `time.tzset()` does nothing, and restarting the interpreter is the only way to update the time zone from the perspective of the `time` function.\n",
    "\n",
    "If your program is or could run on Windows, it is preferable to use the `dateutil.tz.tzwinlocal()` function to represent local times, as it queries the system registry directly."
   ]
  },
  {
   "cell_type": "markdown",
   "metadata": {},
   "source": [
    "On Windows, you can see this problem: \n",
    "\n",
    "```python\n",
    ">>> dt = datetime(2014, 2, 11, 17, 0)\n",
    "\n",
    ">>> print(dt.replace(tzinfo=tz.tzlocal()).tzname())\n",
    "Eastern Standard Time\n",
    "\n",
    ">>> print(dt.replace(tzinfo=tz.win.tzwinlocal()).tzname())\n",
    "Eastern Standard Time\n",
    "\n",
    ">>> with TZWinContext('Pacific Standard Time'):\n",
    "...     print(dt.replace(tzinfo=tz.tzlocal()).tzname())\n",
    "...     print(dt.replace(tzinfo=tz.win.tzwinlocal()).tzname())\n",
    "```\n",
    "```\n",
    "Eastern Standard Time\n",
    "Pacific Standard Time\n",
    "```"
   ]
  },
  {
   "cell_type": "markdown",
   "metadata": {},
   "source": [
    "However, in both cases (unlike the situation with all other time zone types), it is preferable to make a *new `tzinfo` object for every `datetime`*. The reason for this is that a certain amount of the behavior of `tzlocal` and `tzwinlocal` are set at construction time, so:"
   ]
  },
  {
   "cell_type": "code",
   "execution_count": null,
   "metadata": {},
   "outputs": [],
   "source": [
    "with TZEnvContext(\"America/New_York\"):\n",
    "    LOCAL = tz.tzlocal()\n",
    "\n",
    "with TZEnvContext(\"America/Los_Angeles\"):\n",
    "    print(datetime(2014, 2, 11, 17, tzinfo=LOCAL))\n",
    "\n",
    "with TZEnvContext(\"America/Chicago\"):\n",
    "    print(datetime(2014, 2, 11, 17, tzinfo=LOCAL))\n"
   ]
  },
  {
   "cell_type": "markdown",
   "metadata": {},
   "source": [
    "Note that both of these are using the offset specified in the *original* time zone. What's worse is that because `tzlocal` does not have direct access to the function mapping `datetime` to offsets, if the system time zone changes, the offsets are baked in at runtime, but the dates of DST changes use the *current system offsets*, thus creating a hybrid object that is *really* wrong:"
   ]
  },
  {
   "cell_type": "code",
   "execution_count": null,
   "metadata": {},
   "outputs": [],
   "source": [
    "with TZEnvContext(\"America/New_York\"):\n",
    "    print(datetime(2019, 3, 20, 10, tzinfo=LOCAL))\n",
    "    \n",
    "with TZEnvContext(\"Europe/London\"):\n",
    "    print(datetime(2019, 3, 20, 10, tzinfo=LOCAL))\n",
    "    print(datetime(2019, 3, 20, 10, tzinfo=tz.gettz(\"Europe/London\")))"
   ]
  },
  {
   "cell_type": "markdown",
   "metadata": {},
   "source": [
    "If possible, I recommend avoiding using \"local\" time at all, and instead either convert to UTC eagerly (if dealing in absolute times) or have a user-configurable time zone mapping to either the IANA database or the Windows time zone settings.\n",
    "\n",
    "And I will note that these particular kinds of bugs are probably incredibly rare with some mitigations, since it requires a non-Windows user to change their time zone during the lifetime of a `tzlocal` object to another time zone that has a different schedule for DST changes. It can happen, but it will probably not make your application useless if you don't handle it correctly."
   ]
  }
 ],
 "metadata": {
  "kernelspec": {
   "display_name": "Python 3",
   "language": "python",
   "name": "python3"
  },
  "language_info": {
   "codemirror_mode": {
    "name": "ipython",
    "version": 3
   },
   "file_extension": ".py",
   "mimetype": "text/x-python",
   "name": "python",
   "nbconvert_exporter": "python",
   "pygments_lexer": "ipython3",
   "version": "3.7.3"
  }
 },
 "nbformat": 4,
 "nbformat_minor": 2
}
