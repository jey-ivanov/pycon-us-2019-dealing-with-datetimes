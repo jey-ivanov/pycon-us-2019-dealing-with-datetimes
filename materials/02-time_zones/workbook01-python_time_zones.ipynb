{
 "cells": [
  {
   "cell_type": "markdown",
   "metadata": {},
   "source": [
    "# Working with Time Zones"
   ]
  },
  {
   "cell_type": "markdown",
   "metadata": {},
   "source": [
    "## Why work with Time Zones?\n",
    "\n",
    "It is fairly common, though erroneous, advice that you should use time zones only for display, and you should immediately convert all datetimes to UTC when working with them.\n",
    "\n",
    "This is a fine strategy when working with *absolute* times (measuring elapsed time, event ordering, etc), but when working with *wall times* it will cause problems. For example, imagine that we need to represent market close time for a stock market based in New York. Using timezone-aware datetimes, this is trivial:\n"
   ]
  },
  {
   "cell_type": "code",
   "execution_count": null,
   "metadata": {},
   "outputs": [],
   "source": [
    "from datetime import datetime\n",
    "from dateutil import tz\n",
    "from dateutil import rrule as rr\n",
    "\n",
    "WEEKDAYS = (rr.MO, rr.TU, rr.WE, rr.TH, rr.FR)\n",
    "closing_times = rr.rrule(freq=rr.DAILY, byweekday=WEEKDAYS, byhour=17,\n",
    "                         dtstart=datetime(2017, 3, 9, 17, tzinfo=tz.gettz(\"America/New_York\")),\n",
    "                         count=5)\n",
    "\n",
    "for dt in closing_times:\n",
    "    print(dt)"
   ]
  },
  {
   "cell_type": "markdown",
   "metadata": {},
   "source": [
    "Represented in UTC, however, you can see that it's not a simple rule to express:"
   ]
  },
  {
   "cell_type": "code",
   "execution_count": null,
   "metadata": {},
   "outputs": [],
   "source": [
    "for dt in closing_times:\n",
    "    print(dt.astimezone(tz.UTC))"
   ]
  },
  {
   "cell_type": "markdown",
   "metadata": {},
   "source": [
    "Using aware datetimes allows you to outsource the transition logic (and data) to your time zone provider."
   ]
  },
  {
   "cell_type": "markdown",
   "metadata": {},
   "source": [
    "## Python's Time Zone Model"
   ]
  },
  {
   "cell_type": "markdown",
   "metadata": {},
   "source": [
    "The `tzinfo` class is an abstract base class, and you are required to implement three methods:\n",
    "\n",
    "```python\n",
    "class tzinfo:\n",
    "    def tzname(self, dt):\n",
    "        raise NotImplementedError()\n",
    "\n",
    "    def utcoffset(self, dt):\n",
    "        raise NotImplementedError()\n",
    "        \n",
    "    def dst(self, dt):\n",
    "        raise NotImplementedError()\n",
    "        \n",
    "    ...\n",
    "```\n",
    "\n",
    "- `tzname`: Return the name or abbreviation for the time zone at the given datetime.\n",
    "- `utcoffset`: Return a `datetime.timedelta` representing the offset from UTC at the given datetime.\n",
    "- `dst`: Return a `datetime.timedelta` representing the amount of the daylight saving time offset at a given time. *This method is rarely useful*.\n",
    "\n",
    "The reason these are *methods* rather than fixed values is that a `tzinfo` represents a mapping between a datetime and the set of rules that applies at that time in this zone. The same concrete `tzinfo` class is used for many `datetime`s."
   ]
  },
  {
   "cell_type": "markdown",
   "metadata": {},
   "source": [
    "### Example: Eastern Time"
   ]
  },
  {
   "cell_type": "code",
   "execution_count": null,
   "metadata": {},
   "outputs": [],
   "source": [
    "from dateutil import tz\n",
    "from datetime import datetime, timedelta"
   ]
  },
  {
   "cell_type": "code",
   "execution_count": null,
   "metadata": {},
   "outputs": [],
   "source": [
    "def print_tzinfo(dt):\n",
    "    \"\"\"Convenience function for printing the time zone information of a datetime\"\"\"\n",
    "    print(\"dt.tzname: \" + str(dt.tzname()))\n",
    "    print(\"dt.utcoffset: \" + str(dt.utcoffset() / timedelta(hours=1)) + \" hours\")\n",
    "    print(\"dt.dst: \" + str(dt.dst() / timedelta(hours=1)) + \" hours\")"
   ]
  },
  {
   "cell_type": "code",
   "execution_count": null,
   "metadata": {},
   "outputs": [],
   "source": [
    "EASTERN = tz.gettz(\"America/New_York\")"
   ]
  },
  {
   "cell_type": "code",
   "execution_count": null,
   "metadata": {},
   "outputs": [],
   "source": [
    "dt_std = datetime(2019, 3, 1, 12, tzinfo=EASTERN)"
   ]
  },
  {
   "cell_type": "code",
   "execution_count": null,
   "metadata": {},
   "outputs": [],
   "source": [
    "print_tzinfo(dt_std)"
   ]
  },
  {
   "cell_type": "code",
   "execution_count": null,
   "metadata": {},
   "outputs": [],
   "source": [
    "dt_dst = datetime(2019, 4, 1, 12, tzinfo=EASTERN)"
   ]
  },
  {
   "cell_type": "code",
   "execution_count": null,
   "metadata": {},
   "outputs": [],
   "source": [
    "print_tzinfo(dt_dst)"
   ]
  },
  {
   "cell_type": "markdown",
   "metadata": {},
   "source": [
    "### Exercise: Implement a UTC time zone class"
   ]
  },
  {
   "cell_type": "markdown",
   "metadata": {},
   "source": [
    "The simplest `tzinfo` classes to implement are fixed offsets from UTC and UTC itself, which have offsets that do not change as a function of `datetime`. To practice a basic tzinfo implementation, implement a class `UTC` representing the UTC time zone."
   ]
  },
  {
   "cell_type": "code",
   "execution_count": null,
   "metadata": {},
   "outputs": [],
   "source": [
    "import tz_tests"
   ]
  },
  {
   "cell_type": "code",
   "execution_count": null,
   "metadata": {},
   "outputs": [],
   "source": [
    "from datetime import tzinfo"
   ]
  },
  {
   "cell_type": "code",
   "execution_count": null,
   "metadata": {},
   "outputs": [],
   "source": [
    "class UTC(tzinfo):\n",
    "    # Implement here\n",
    "    pass"
   ]
  },
  {
   "cell_type": "code",
   "execution_count": null,
   "metadata": {},
   "outputs": [],
   "source": [
    "### Uncomment to test\n",
    "# tz_tests.test_utc(UTC())"
   ]
  }
 ],
 "metadata": {
  "kernelspec": {
   "display_name": "Python 3",
   "language": "python",
   "name": "python3"
  },
  "language_info": {
   "codemirror_mode": {
    "name": "ipython",
    "version": 3
   },
   "file_extension": ".py",
   "mimetype": "text/x-python",
   "name": "python",
   "nbconvert_exporter": "python",
   "pygments_lexer": "ipython3",
   "version": "3.7.3"
  }
 },
 "nbformat": 4,
 "nbformat_minor": 2
}
