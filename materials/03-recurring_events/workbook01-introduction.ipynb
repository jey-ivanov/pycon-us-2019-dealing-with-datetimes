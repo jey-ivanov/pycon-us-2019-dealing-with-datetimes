{
 "cells": [
  {
   "cell_type": "markdown",
   "metadata": {},
   "source": [
    "# Recurring Events"
   ]
  },
  {
   "cell_type": "markdown",
   "metadata": {},
   "source": [
    "Expressing recurring events (meetings, alarms, tasks) is a fairly common task, but is complicated by the realities of the calendar system and many of the other things we've discussed in the tutorial so far. The closest thing to a standard way to express recurring events is defined in the iCalendar Spec: [RFC 5545](https://tools.ietf.org/html/rfc5545): \"Internet Calendaring and Scheduling Core Object Specification\".\n",
    "\n",
    "![RFC 5545](images/RFC5545-toc.png)\n",
    "\n",
    "The iCalendar spec is a long document with a nested hierarchy of objects, calendars, events, alarms, TODOs, etc. Buried in that definition in section 3.3.10 is the definition of the *recurrence rule* data type for expressing recurring events.\n",
    "\n",
    "`dateutil` provides an implementation of this data type in the `rrule` module (partially compliant with RFC5545 and its amendments, originally written to be compliant with RFC 2445). In this section, we will cover how to use the `dateutil.rrule` module."
   ]
  },
  {
   "cell_type": "markdown",
   "metadata": {},
   "source": [
    "### RRULE components\n",
    "\n",
    "The fundamental elements of an `rrule` are:\n",
    "\n",
    "- `dtstart`: The start point of the recurrence (this is similar to a phase)\n",
    "- `freq`: The units of the fundamental frequency of the recurrence. It takes the values `YEARLY`, `MONTHLY`, `WEEKLY`, `DAILY`, `HOURLY`, `MINUTELY`, `SECONDLY`\n",
    "- `interval`: The fundamental frequency of the recurrence, in units of `freq`. If unspecified, this is 1.\n",
    "\n",
    "To see how these affect the rrule, we'll play around with an `HOURLY` rrule."
   ]
  },
  {
   "cell_type": "code",
   "execution_count": null,
   "metadata": {
    "scrolled": true
   },
   "outputs": [],
   "source": [
    "from datetime import datetime\n",
    "\n",
    "from dateutil.rrule import rrule\n",
    "from dateutil.rrule import MO, TU, WE, TH, FR, SA, SU\n",
    "from dateutil.rrule import YEARLY, MONTHLY, WEEKLY, DAILY, HOURLY, MINUTELY, SECONDLY\n",
    "\n",
    "from helper_functions import print_dtlist"
   ]
  },
  {
   "cell_type": "code",
   "execution_count": null,
   "metadata": {},
   "outputs": [],
   "source": [
    "hourly = rrule(freq=HOURLY, interval=1, dtstart=datetime(2016, 7, 18, 9), count=3)\n",
    "print_dtlist(hourly)"
   ]
  },
  {
   "cell_type": "code",
   "execution_count": null,
   "metadata": {},
   "outputs": [],
   "source": [
    "dtstart_rr = hourly.replace(dtstart=datetime(2016, 7, 18, 10))\n",
    "print_dtlist(dtstart_rr)"
   ]
  },
  {
   "cell_type": "code",
   "execution_count": null,
   "metadata": {},
   "outputs": [],
   "source": [
    "interval_2 = hourly.replace(interval=2)\n",
    "print_dtlist(interval_2)"
   ]
  },
  {
   "cell_type": "markdown",
   "metadata": {},
   "source": [
    "### Limiting RRULEs\n",
    "An `rrule` starts at `dtstart` (it cannot run backwards), and by default will generate dates indefinitely (in practice, limited by the point at which the `datetime` type cannot represent the dates it would return). There are two, mutually exclusive ways to set limits on the rules:\n",
    "\n",
    "- `count`: A total number of valid instances to generate\n",
    "- `until`: The maximum `datetime` value that can be emitted by the `rrule`"
   ]
  },
  {
   "cell_type": "markdown",
   "metadata": {},
   "source": [
    "### Retrieving subsets\n",
    "A fairly common operation is to retrieve a subset of the valid recurrences of an `rrule` based on a date. ``rule`` exposes several methods to achieve this:\n",
    "\n",
    "- `after`: Retrieve the *first* recurrence of the rule *after* the provided datetime\n",
    "- `before`: Retrieve the *last* recurrence of the rule *before* the provided datetime\n",
    "- `between`: Retrieve all recurrences of the rule between two datetimes\n",
    "\n",
    "For example:"
   ]
  },
  {
   "cell_type": "code",
   "execution_count": null,
   "metadata": {},
   "outputs": [],
   "source": [
    "rr = rrule(freq=MONTHLY, interval=4, dtstart=datetime(1995, 7, 10))"
   ]
  },
  {
   "cell_type": "code",
   "execution_count": null,
   "metadata": {},
   "outputs": [],
   "source": [
    "rr.after(datetime(2015, 2, 1))"
   ]
  },
  {
   "cell_type": "code",
   "execution_count": null,
   "metadata": {},
   "outputs": [],
   "source": [
    "rr.before(datetime(1997, 1, 1))"
   ]
  },
  {
   "cell_type": "code",
   "execution_count": null,
   "metadata": {},
   "outputs": [],
   "source": [
    "rr.between(datetime(2001, 1, 1), datetime(2002, 1, 1))"
   ]
  },
  {
   "cell_type": "markdown",
   "metadata": {},
   "source": [
    "### Exercise: Play around with some rrules\n",
    "Before we get into more complicated rules, take a few minutes to practice creating `rrule`s and using them.\n",
    "\n",
    "Examples:\n",
    "\n",
    "- Every day at 13:30\n",
    "- Every other week for 6 weeks (try this with both `count` and `until`)\n",
    "- What happens when you call `after` with a datetime after the last recurrence? What about `before`?\n",
    "- How does `between` interact with `count` and `until`?"
   ]
  },
  {
   "cell_type": "code",
   "execution_count": null,
   "metadata": {},
   "outputs": [],
   "source": []
  },
  {
   "cell_type": "code",
   "execution_count": null,
   "metadata": {},
   "outputs": [],
   "source": []
  },
  {
   "cell_type": "markdown",
   "metadata": {},
   "source": [
    "## `byxxx` rules"
   ]
  },
  {
   "cell_type": "markdown",
   "metadata": {},
   "source": [
    "So far, we haven't seen any rules that couldn't be implemented (fairly) easily by applying `relativedelta`s to a base date, but we often want to express more common recurrences, like \"the third Friday of every month\" or \"the 1st of each month at 12:30\", for these, we need to bring in \"by\" rules.\n",
    "\n",
    "`byxxx` rules serve to modify the frequency of the recurrence in some way. The supported rules are `bymonth`, `bymonthday`, `byyearday`, `byweekno`, `byweekday`, `byhour`, `byminute` and `bysecond`, `bysetpos` and `byeaster`.\n",
    "\n",
    "- When the `byxxx` rule specifies a component *greater than or equal to `freq`*, it is a constraint, and (generally) will *reduce* the frequency of the occurrence. For example:"
   ]
  },
  {
   "cell_type": "code",
   "execution_count": null,
   "metadata": {},
   "outputs": [],
   "source": [
    "# Base frequency is DAILY, but restricted to Tuesdays in November\n",
    "rr = rrule(freq=DAILY, bymonth=11, byweekday=(TU, ),\n",
    "           dtstart=datetime(2015, 1, 1, 12), count=5)\n",
    "\n",
    "print_dtlist(rr)"
   ]
  },
  {
   "cell_type": "markdown",
   "metadata": {},
   "source": [
    "- When the `byxxx` rule is *less than* the frequency, it will generally *increase* the frequency of the recurrence:"
   ]
  },
  {
   "cell_type": "code",
   "execution_count": null,
   "metadata": {},
   "outputs": [],
   "source": [
    "# On the 1st, 15th and 30th of every month\n",
    "rr = rrule(freq=MONTHLY, bymonthday=(1, 15, 30),\n",
    "           dtstart=datetime(2015, 1, 16, 12, 15), count=4)\n",
    "\n",
    "print_dtlist(rr)"
   ]
  },
  {
   "cell_type": "markdown",
   "metadata": {},
   "source": [
    "### `byweekday`\n",
    "Similar to weekday constants in the `relativedelta` module, `rrule` also allows specifying rules by weekday. In this case the arguments to the weekday constants are interpreted as the index of all weekdays in one period of the `freq`.\n",
    "\n",
    "So, for example, if you specify `byweekday=(FR(1), FR(-1))`, with a `MONTHLY` rule, you can get the first and last Friday of the month:"
   ]
  },
  {
   "cell_type": "code",
   "execution_count": null,
   "metadata": {},
   "outputs": [],
   "source": [
    "rr = rrule(freq=MONTHLY, byweekday=(FR(1), FR(-1)),\n",
    "           dtstart=datetime(2021, 1, 1), count=4)\n",
    "\n",
    "print_dtlist(rr)"
   ]
  },
  {
   "cell_type": "markdown",
   "metadata": {},
   "source": [
    "And if you make it a `YEARLY`, you get the first and last Friday of the *year*:"
   ]
  },
  {
   "cell_type": "code",
   "execution_count": null,
   "metadata": {},
   "outputs": [],
   "source": [
    "rr_y = rr.replace(freq=YEARLY)\n",
    "print_dtlist(rr_y)"
   ]
  },
  {
   "cell_type": "markdown",
   "metadata": {},
   "source": [
    "For any `freq` smaller than a month, the arguments to the weekday are ignored, and you simply get all Fridays:"
   ]
  },
  {
   "cell_type": "code",
   "execution_count": null,
   "metadata": {},
   "outputs": [],
   "source": [
    "rr_w = rr.replace(freq=WEEKLY)\n",
    "print_dtlist(rr_w)"
   ]
  },
  {
   "cell_type": "markdown",
   "metadata": {},
   "source": [
    "### Exercise: Martin Luther King Day\n",
    "\n",
    "[Martin Luther King, Jr Day](https://en.wikipedia.org/wiki/Martin_Luther_King_Jr._Day) is a US holiday that occurs every year on the third Monday in January. Write a recurrence rule that genrates Martin Luther King Day, starting from its first observance in 1986."
   ]
  },
  {
   "cell_type": "code",
   "execution_count": null,
   "metadata": {},
   "outputs": [],
   "source": [
    "import rr_answers, rr_tests"
   ]
  },
  {
   "cell_type": "code",
   "execution_count": null,
   "metadata": {},
   "outputs": [],
   "source": [
    "### Replace this with your own definition of MLK_DAY\n",
    "mlk_day = ..."
   ]
  },
  {
   "cell_type": "code",
   "execution_count": null,
   "metadata": {},
   "outputs": [],
   "source": [
    "import rr_tests\n",
    "\n",
    "### Uncomment to test\n",
    "# rr_tests.test_mlk_day(mlk_day)"
   ]
  }
 ],
 "metadata": {
  "kernelspec": {
   "display_name": "Python 3",
   "language": "python",
   "name": "python3"
  },
  "language_info": {
   "codemirror_mode": {
    "name": "ipython",
    "version": 3
   },
   "file_extension": ".py",
   "mimetype": "text/x-python",
   "name": "python",
   "nbconvert_exporter": "python",
   "pygments_lexer": "ipython3",
   "version": "3.7.3"
  }
 },
 "nbformat": 4,
 "nbformat_minor": 2
}
