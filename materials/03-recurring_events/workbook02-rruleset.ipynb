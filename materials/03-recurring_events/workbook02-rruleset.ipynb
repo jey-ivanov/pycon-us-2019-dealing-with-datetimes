{
 "cells": [
  {
   "cell_type": "markdown",
   "metadata": {},
   "source": [
    "# Recurring Events"
   ]
  },
  {
   "cell_type": "markdown",
   "metadata": {},
   "source": [
    "## Combining `rrules` with `rruleset`"
   ]
  },
  {
   "cell_type": "markdown",
   "metadata": {},
   "source": [
    "Even though `rrule` is a very flexible and powerful mechanism for specifying recurrences, some recurrences cannot be expressed in a single rule. For example, \"Every Sunday that is NOT Mother's day\" would be very difficult (or impossible) to express with a single `rrule`. This is where `rruleset` comes in.\n",
    "\n",
    "An `rruleset` can be used to add and subtract (or rather, union and difference) `rrule`s and `datetime`s to generate an arbitrary recurrence schedule. The interface is:\n",
    "\n",
    "- `rruleset.rrule()`: Add a recurrence rule to the set\n",
    "- `rruleset.exrule()`: Subtract a recurrence rule from the set\n",
    "- `rruleset.rdate()`: Add a specific *`datetime`* to the set.\n",
    "- `rruleset.exdate()`: Subtract a specific *`datetime`* from the set."
   ]
  },
  {
   "cell_type": "code",
   "execution_count": null,
   "metadata": {},
   "outputs": [],
   "source": [
    "from dateutil.rrule import rruleset, rrule\n",
    "from dateutil.rrule import YEARLY, MONTHLY, WEEKLY, DAILY, HOURLY, MINUTELY, SECONDLY\n",
    "from dateutil.rrule import MO, TU, WE, TH, FR, SA, SU\n",
    "from datetime import datetime\n",
    "\n",
    "import rr_tests\n",
    "\n",
    "from helper_functions import print_dtlist"
   ]
  },
  {
   "cell_type": "markdown",
   "metadata": {},
   "source": [
    "## `rruleset.rrule`"
   ]
  },
  {
   "cell_type": "markdown",
   "metadata": {},
   "source": [
    "With `rruleset.rrule`, two `rrule`s are combined to create one set of recurrences, for example, consider these two rules, one that gives the last day of the month and the other that gives the last Friday of the month:"
   ]
  },
  {
   "cell_type": "code",
   "execution_count": null,
   "metadata": {},
   "outputs": [],
   "source": [
    "end_of_month = rrule(freq=MONTHLY, bymonthday=(28, 29, 30, 31), bysetpos=-1,\n",
    "                     dtstart=datetime(2019, 3, 1), until=datetime(2019, 7, 1))\n",
    "last_friday = rrule(freq=MONTHLY, byweekday=FR(-1),\n",
    "                     dtstart=datetime(2019, 3, 1), until=datetime(2019, 7, 1))"
   ]
  },
  {
   "cell_type": "code",
   "execution_count": null,
   "metadata": {},
   "outputs": [],
   "source": [
    "rrs = rruleset()\n",
    "rrs.rrule(end_of_month)\n",
    "rrs.rrule(last_friday)"
   ]
  },
  {
   "cell_type": "code",
   "execution_count": null,
   "metadata": {},
   "outputs": [],
   "source": [
    "print_dtlist(rrs)   # Notice that there's only one entry for May"
   ]
  },
  {
   "cell_type": "markdown",
   "metadata": {},
   "source": [
    "In the above list, there's only one entry for May - that is because the last day of May is a Friday, so `2019-05-31` is a recurrence for *both* `rrule`s. Each recurrence will only occur once in the final output even if it occurs in more than one rule."
   ]
  },
  {
   "cell_type": "markdown",
   "metadata": {},
   "source": [
    "### Exercise: Building a bus schedule"
   ]
  },
  {
   "cell_type": "markdown",
   "metadata": {},
   "source": [
    "In this workbook, we'll be building a bus schedule out of an `rruleset`, adding new features to the bus schedule as they are introduced in the workbook.\n",
    "\n",
    "First, define the `bus_schedule` `rruleset` that we're going to be building, and give it the base (normal) schedule. The normal schedule for this bus is:\n",
    "\n",
    "- On weekdays (MO-FR): Comes once an hour, 37 minutes after the hour, starting at 06:37 and running to 22:37\n",
    "- On weekends (SA & SU): Comes every hour 7 minutes after the hour, from 08:07 until 19:07"
   ]
  },
  {
   "cell_type": "code",
   "execution_count": null,
   "metadata": {},
   "outputs": [],
   "source": [
    "# Convenient definitions\n",
    "WEEKDAYS = (MO, TU, WE, TH, FR)\n",
    "WEEKENDS = (SA, SU)\n",
    "dtstart = datetime(2020, 10, 1)\n",
    "\n",
    "# Create the initial bus schedule\n",
    "bus_schedule = rruleset()"
   ]
  },
  {
   "cell_type": "code",
   "execution_count": null,
   "metadata": {},
   "outputs": [],
   "source": []
  },
  {
   "cell_type": "code",
   "execution_count": null,
   "metadata": {},
   "outputs": [],
   "source": [
    "### Uncomment this to run the tests\n",
    "# rr_tests.test_basic_bus_schedule(bus_schedule)"
   ]
  },
  {
   "cell_type": "markdown",
   "metadata": {},
   "source": [
    "## `rruleset.exrule`"
   ]
  },
  {
   "cell_type": "markdown",
   "metadata": {},
   "source": [
    "To *exclude* recurrences from an `rruleset`, use the `exrule` command. If an excluded recurrence would otherwise occur in the `rruleset`, it is skipped. If not, the excluded recurrence has no effect.\n",
    "\n",
    "As an example, let's create the rule mentioned at the top of the workbook - every Sunday that is *not* Mother's Day."
   ]
  },
  {
   "cell_type": "code",
   "execution_count": null,
   "metadata": {},
   "outputs": [],
   "source": [
    "every_sunday = rrule(freq=WEEKLY,\n",
    "                     byweekday=SU,\n",
    "                     dtstart=datetime(2019, 4, 15))\n",
    "\n",
    "mothers_day = rrule(freq=YEARLY,\n",
    "                    bymonth=5,\n",
    "                    byweekday=SU(+2),\n",
    "                    dtstart=datetime(2019, 4, 15))"
   ]
  },
  {
   "cell_type": "code",
   "execution_count": null,
   "metadata": {},
   "outputs": [],
   "source": [
    "rrs = rruleset()\n",
    "rrs.rrule(every_sunday)\n",
    "rrs.exrule(mothers_day)\n",
    "\n",
    "print(f\"Mother's Day 2019: {mothers_day.after(datetime(2019, 4, 15))}\")\n",
    "print(\"\")\n",
    "print(\"Combined rule:\")\n",
    "print_dtlist(rrs.between(datetime(2019, 4, 15), datetime(2019, 6, 1)))"
   ]
  },
  {
   "cell_type": "markdown",
   "metadata": {},
   "source": [
    "One useful trick for limiting specific rules is to use the `rrule.replace` method to get the same rule, but with more restricted parameters. For example, if an event happens every Friday at 9:00, and 17:00, except on Friday the 13th, we can run a modified form of the same rule to cancel out all recurrences on Friday the 13th:"
   ]
  },
  {
   "cell_type": "code",
   "execution_count": null,
   "metadata": {},
   "outputs": [],
   "source": [
    "every_friday = rrule(freq=WEEKLY, byweekday=FR, byhour=(9, 17),\n",
    "                     dtstart=datetime(2019, 9, 1))\n",
    "friday_13th = every_friday.replace(bymonthday=13)"
   ]
  },
  {
   "cell_type": "code",
   "execution_count": null,
   "metadata": {},
   "outputs": [],
   "source": [
    "rrs = rruleset()\n",
    "rrs.rrule(every_friday)\n",
    "rrs.exrule(friday_13th)\n",
    "\n",
    "print_dtlist(rrs.between(datetime(2019, 9, 1), datetime(2019, 10, 1)))"
   ]
  },
  {
   "cell_type": "markdown",
   "metadata": {},
   "source": [
    "### Exercise: Reduce evening bus service\n",
    "In our previous exercise, we defined `bus_schedule` to run every hour on the 37, between 6:37 and 22:37, but the *actual* schedule has reduced service after 6 PM, and only runs every *other* hour on the 37. Modify the original bus schedule to account for this additional rule."
   ]
  },
  {
   "cell_type": "code",
   "execution_count": null,
   "metadata": {},
   "outputs": [],
   "source": []
  },
  {
   "cell_type": "code",
   "execution_count": null,
   "metadata": {},
   "outputs": [],
   "source": [
    "### Uncomment this to run the tests\n",
    "# rr_tests.test_basic_bus_schedule(bus_schedule)"
   ]
  },
  {
   "cell_type": "markdown",
   "metadata": {},
   "source": [
    "## `rruleset.rdate` and `rruleset.exdate`"
   ]
  },
  {
   "cell_type": "markdown",
   "metadata": {},
   "source": [
    "In addition to adding or excluding *rules* from the set, it is also possible to make one-off additions or subtractions from the rule with the `rdate` and `exdate` methods. These have the same behavior as `rrule` and `exrule`, but operate on a single date.\n",
    "\n",
    "So for example, imagine that there is a meeting scheduled every Wednesday at 14:00, but the meeting organizer will be on vacation on June 12th, we can remove the June 12th meeting with an `exdate` for `2019-06-12T14:00`:"
   ]
  },
  {
   "cell_type": "code",
   "execution_count": null,
   "metadata": {},
   "outputs": [],
   "source": [
    "meeting = rrule(freq=WEEKLY, byweekday=WE,\n",
    "                dtstart=datetime(2019, 4, 15, 14),\n",
    "                until=datetime(2020, 8, 1))\n",
    "\n",
    "rrs = rruleset()\n",
    "rrs.rrule(meeting)\n",
    "rrs.exdate(datetime(2019, 6, 12, 14))\n",
    "\n",
    "print_dtlist(rrs.between(datetime(2019, 6, 4), datetime(2019, 6, 20)))"
   ]
  },
  {
   "cell_type": "markdown",
   "metadata": {},
   "source": [
    "If the meeting is *rescheduled* for June 13th at 10:00, we can add in that occurrence with an `rdate`:"
   ]
  },
  {
   "cell_type": "code",
   "execution_count": null,
   "metadata": {},
   "outputs": [],
   "source": [
    "rrs.rdate(datetime(2019, 6, 13, 10))\n",
    "\n",
    "print_dtlist(rrs.between(datetime(2019, 6, 4), datetime(2019, 6, 20)))"
   ]
  },
  {
   "cell_type": "markdown",
   "metadata": {},
   "source": [
    "### Exercise: Bus service cancelled on election day\n",
    "Imagine that in our hypothetical town the politicians lobby for \"improvements\" to the bus lines, and as a result, this bus will not be running on November 3rd, 2020. (*...wait, is that US election day? What a crazy and completely unplanned coincidence! Ah well, can't change it now!*)\n",
    "\n",
    "In this exercise, update the `rruleset` to reflect the fact that the bus will not be running on November 3rd, 2020."
   ]
  },
  {
   "cell_type": "code",
   "execution_count": null,
   "metadata": {},
   "outputs": [],
   "source": []
  },
  {
   "cell_type": "code",
   "execution_count": null,
   "metadata": {},
   "outputs": [],
   "source": [
    "### Uncomment this to run the tests\n",
    "# rr_tests.test_no_election_day(bus_schedule)"
   ]
  },
  {
   "cell_type": "markdown",
   "metadata": {},
   "source": [
    "### Exercise: Limited service restoration\n",
    "After much protest about the bus cancellations, the politicians agree to allow limited bus service even during the maintenance, so they schedule two busses... at 04:32 and 19:49.\n",
    "\n",
    "Update the bus schedule to reflect these concessions."
   ]
  },
  {
   "cell_type": "code",
   "execution_count": null,
   "metadata": {},
   "outputs": [],
   "source": []
  },
  {
   "cell_type": "code",
   "execution_count": null,
   "metadata": {},
   "outputs": [],
   "source": [
    "### Uncomment this to run the tests\n",
    "# rr_tests.test_final_schedule(bus_schedule)"
   ]
  },
  {
   "cell_type": "markdown",
   "metadata": {},
   "source": [
    "## Bus Schedule: Display\n",
    "\n",
    "When you have completed the bus schedule, we can display it using this bus schedule printer."
   ]
  },
  {
   "cell_type": "code",
   "execution_count": null,
   "metadata": {},
   "outputs": [],
   "source": [
    "from helper_functions import display_bus_schedule\n",
    "\n",
    "### Uncomment to display schedule\n",
    "# sched = bus_schedule.between(datetime(2020, 11, 1), datetime(2020, 11, 8))\n",
    "# display_bus_schedule(sched)"
   ]
  }
 ],
 "metadata": {
  "kernelspec": {
   "display_name": "Python 3",
   "language": "python",
   "name": "python3"
  },
  "language_info": {
   "codemirror_mode": {
    "name": "ipython",
    "version": 3
   },
   "file_extension": ".py",
   "mimetype": "text/x-python",
   "name": "python",
   "nbconvert_exporter": "python",
   "pygments_lexer": "ipython3",
   "version": "3.7.3"
  }
 },
 "nbformat": 4,
 "nbformat_minor": 2
}
