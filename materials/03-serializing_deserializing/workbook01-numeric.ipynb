{
 "cells": [
  {
   "cell_type": "markdown",
   "metadata": {},
   "source": [
    "# Serializing and deserializing datetimes"
   ]
  },
  {
   "cell_type": "markdown",
   "metadata": {},
   "source": [
    "### Absolute vs. civil times\n",
    "\n",
    "One very important concept with regards to serializing and deserializing datetimes is keeping in mind the distinction between *absolute times* (timestamps) and *civil times* (datetimes or wall times). These two concepts are often overloaded in common parlance, but they have very different properties with respect to serialization and deserialization.\n",
    "\n",
    "**Absolute times** represent a specific point in time, where the time on the wall does not matter. For events in the past, such as timestamps on logs, you *usually* care about the absolute time (either for purposes of ordering or for purposes of calculating elapsed time).\n",
    "\n",
    "*Examples of when you may want an absolute time*:\n",
    "\n",
    "- Transactions and logs\n",
    "- Timing a biological process (e.g. feeding a fish)\n",
    "- Timing an chemical or astronomical process\n",
    "\n",
    "**Civil times** represent a specific time *as defined by the clock on the wall*. If, for example, you have a meeting at noon every Friday but your time zone shifts by 1 hour, you would not start holding the meeting at 11 AM because that 168 hours after the previous meeting. For events in the future you *usually* care about civil times.\n",
    "\n",
    "*Examples of when you may want to use civil times*:\n",
    "\n",
    "- Meetings\n",
    "- Work hours\n",
    "- Recurring events\n",
    "- When to feed a Gremlin"
   ]
  },
  {
   "cell_type": "markdown",
   "metadata": {},
   "source": [
    "## Serializing and deserializing timestamps as numeric offsets"
   ]
  },
  {
   "cell_type": "markdown",
   "metadata": {},
   "source": [
    "While you, as a human, are probably used to consuming your datetimes as some sort of string, like \"October 21, 2015\" or \"2015-10-21\", when dealing with *absolute* datetimes, the most natural representation is probably as an offset from some reference time, e.g. 17 hours after this process started or 250,000 seconds after the Unix epoch.\n",
    "\n",
    "Assuming you know the reference time and units of the offset (and this may be a big if), this may be the most compact and unambiguous representation of your absolute times.\n",
    "\n",
    "The most common numeric representation of time is [Unix time](https://en.wikipedia.org/wiki/Unix_time): number of seconds since the Unix epoch: 01 January 1970 00:00:00 UTC."
   ]
  },
  {
   "cell_type": "markdown",
   "metadata": {},
   "source": [
    "### Example: Write a function to store a message with metadata in JSON\n",
    "\n",
    "Assume you are writing a chat application that sends timestamped message in JSON. You would like to write a function that takes a \"to\" user, a \"from\" user and a message, and outputs a JSON-encoded string with the to, from, timestamp and message information, like so:\n",
    "\n",
    "```\n",
    "{\n",
    "   \"user_to\": \"cool_beans1973\",\n",
    "   \"user_from\": \"xXx_the_matrix_xXx\",\n",
    "   \"sent_epoch\": 946721730.0,\n",
    "   \"message\": \"Looks like we survived Y2K! Should we go see Deuce Bigalow on Friday?\"\n",
    "}\n",
    "```"
   ]
  },
  {
   "cell_type": "code",
   "execution_count": 4,
   "metadata": {},
   "outputs": [],
   "source": [
    "import sd_answers, sd_tests"
   ]
  },
  {
   "cell_type": "code",
   "execution_count": 5,
   "metadata": {},
   "outputs": [],
   "source": [
    "def encode_message(user_to: str, user_from: str, message: str) -> str:\n",
    "    \"\"\"Encode a message to be sent in JSON\"\"\"\n",
    "    pass"
   ]
  },
  {
   "cell_type": "code",
   "execution_count": 6,
   "metadata": {},
   "outputs": [
    {
     "name": "stdout",
     "output_type": "stream",
     "text": [
      "Output:\n",
      "{\"user_to\": \"cool_beans1973\", \"user_from\": \"xXx_the_matrix_xXx\", \"sent_epoch\": 946721730.214333, \"message\": \"Test message\\u00e9\"}\n",
      "Passed!\n"
     ]
    }
   ],
   "source": [
    "### Uncomment to test encoder function\n",
    "# sd_tests.test_encode_message_metadata(encode_message)"
   ]
  },
  {
   "cell_type": "markdown",
   "metadata": {},
   "source": [
    "### Exercise: Write a function to retrieve and display the message\n",
    "\n",
    "Now we want to *deserialize* the JSON message and display it to our user in a human-readable way. Assuming the recipient is in `America/New_York`, the example from above would be displayed as:\n",
    "\n",
    "```\n",
    "(2000-01-01 05:15:30) xXx_the_matrix_xXx:\n",
    "Looks like we survived Y2K! Should we go see Deuce Bigalow on Friday?\n",
    "```\n"
   ]
  },
  {
   "cell_type": "code",
   "execution_count": null,
   "metadata": {},
   "outputs": [],
   "source": [
    "def display_message(json_str: str) -> str:\n",
    "    \"\"\"Generate a display string for a JSON-encoded message\"\"\"\n",
    "    pass"
   ]
  },
  {
   "cell_type": "code",
   "execution_count": 1,
   "metadata": {},
   "outputs": [],
   "source": [
    "user_to = \"cool_beans1973\"\n",
    "user_from = \"xXx_the_matrix_xXx\"\n",
    "message = \"Looks like we survived Y2K!\"\n",
    "\n",
    "# display_message(sd_answers.encode_message(user_to, user_from, message))"
   ]
  },
  {
   "cell_type": "code",
   "execution_count": null,
   "metadata": {},
   "outputs": [],
   "source": [
    "### Uncomment to test\n",
    "# sd_tests.test_display_message_metadata(display_message)"
   ]
  }
 ],
 "metadata": {
  "kernelspec": {
   "display_name": "Python 3",
   "language": "python",
   "name": "python3"
  },
  "language_info": {
   "codemirror_mode": {
    "name": "ipython",
    "version": 3
   },
   "file_extension": ".py",
   "mimetype": "text/x-python",
   "name": "python",
   "nbconvert_exporter": "python",
   "pygments_lexer": "ipython3",
   "version": "3.7.3"
  }
 },
 "nbformat": 4,
 "nbformat_minor": 2
}
